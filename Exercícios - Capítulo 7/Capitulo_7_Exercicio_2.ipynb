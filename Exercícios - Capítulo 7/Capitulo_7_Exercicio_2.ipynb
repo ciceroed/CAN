{
  "nbformat": 4,
  "nbformat_minor": 0,
  "metadata": {
    "colab": {
      "provenance": [],
      "authorship_tag": "ABX9TyMj8stKR++lv1XBmwQ1LUGM",
      "include_colab_link": true
    },
    "kernelspec": {
      "name": "python3",
      "display_name": "Python 3"
    },
    "language_info": {
      "name": "python"
    }
  },
  "cells": [
    {
      "cell_type": "markdown",
      "metadata": {
        "id": "view-in-github",
        "colab_type": "text"
      },
      "source": [
        "<a href=\"https://colab.research.google.com/github/ciceroed/CAN/blob/main/Exerc%C3%ADcios%20-%20Cap%C3%ADtulo%207/Capitulo_7_Exercicio_2.ipynb\" target=\"_parent\"><img src=\"https://colab.research.google.com/assets/colab-badge.svg\" alt=\"Open In Colab\"/></a>"
      ]
    },
    {
      "cell_type": "markdown",
      "source": [
        " A medição de alguns pontos de uma curva de saturação magnética (Bx\n",
        "H) num processo de desmagnetização do ferrite MnZn3C15 é:\n",
        "\n",
        "| H (A/m) | -50 |  -5 |  5  | 75 |\n",
        "|---------|-----|-----|-----|----|\n",
        "| B (mT)  |-300 | -50 | 180 |350 |\n",
        "\n",
        "Determine o valor da indução magnética para H = 0 A/m."
      ],
      "metadata": {
        "id": "XCGvt1yCTcJf"
      }
    },
    {
      "cell_type": "code",
      "execution_count": 2,
      "metadata": {
        "colab": {
          "base_uri": "https://localhost:8080/",
          "height": 448
        },
        "id": "ESjy3eBvR5qJ",
        "outputId": "94f9f8f3-9b45-4ac6-f63b-30c2191ac8bf"
      },
      "outputs": [
        {
          "output_type": "stream",
          "name": "stdout",
          "text": [
            "s = 62.81385281385282\n"
          ]
        },
        {
          "output_type": "display_data",
          "data": {
            "text/plain": [
              "<Figure size 640x480 with 1 Axes>"
            ],
            "image/png": "[encoded data removed]"
          },
          "metadata": {}
        }
      ],
      "source": [
        "# Cálculo numérico para engenharia elétrica com PYTHON\n",
        "# Capítulo 7: Ajuste de curvas\n",
        "# Polinômios interpoladores de Lagrange\n",
        "\n",
        "\n",
        "import matplotlib.pyplot as plt\n",
        "import numpy as np\n",
        "\n",
        "\n",
        "x = ([-50, -5, 5, 75])\n",
        "y = ([-300, -50, 180, 350])\n",
        "xx = 0\n",
        "n = len(x)  # número de amostras\n",
        "if len(y) != n:\n",
        "    print('x e y devem ter o mesmo tamanho')\n",
        "s = 0\n",
        "for i in range(0, n):\n",
        "    produto = y[i]\n",
        "    for j in range(0, n):\n",
        "        if i != j:\n",
        "            produto = produto * (xx - x[j]) / (x[i] - x[j])\n",
        "    s = s + produto\n",
        "print(f's = {s}')\n",
        "\n",
        "# gráfico\n",
        "plt.grid(True)\n",
        "c = np.polyfit(x, y, 2)\n",
        "x_polyfit = np.linspace(min(x), max(x), 100)\n",
        "y_polyfit = np.polyval(c, x_polyfit)\n",
        "plt.plot(x_polyfit, y_polyfit, 'k')\n",
        "plt.plot(x, y, 'bs')\n",
        "plt.plot(xx, s, 'ro')\n",
        "plt.show()"
      ]
    },
    {
      "cell_type": "code",
      "source": [
        "# Código obtido pelo github de Gabrielmazz\n",
        "# Link do repositório: https://github.com/gabrielmazz/interpolador_newton/blob/main/interpolador_newton.py\n",
        "\n",
        "\n",
        "\n",
        "import sympy as sp\n",
        "import numpy as np\n",
        "\n",
        "\"\"\"\n",
        "    Este trecho de código define a função \"interp_newton\" que recebe como entrada dois arrays, \"x\" e \"y\", que representam os pontos para interpolação. A função retorna uma outra função, \"p(z)\",\n",
        "    que é a interpolação dos pontos usando o Método de Newton. A função interp_newton começa armazenando o tamanho dos arrays \"x\" e \"y\" na variável \"n\". Em seguida, cria uma cópia dos valores de\n",
        "    \"y\" e armazena na variável \"a\". Depois, é realizado um loop de \"j\" que vai de 1 até n-1, e dentro deste loop, é realizado outro loop de \"i\" que vai de n-1 até j-1, decrementando de 1 em 1.\n",
        "    Durante o loop de \"i\", o valor da interpolação é calculado usando o Método de Newton. Por fim, a função \"p(z)\" é definida como o resultado da interpolação usando o Método de Newton, e é\n",
        "    retornada ao final da função \"interp_newton\".\n",
        "\"\"\"\n",
        "\n",
        "def interp_newton(x, y):\n",
        "    # Guarda o tamanho dos arrays x e y na variável n\n",
        "    n = len(x)\n",
        "\n",
        "    # Cria uma cópia dos valores de y e guarda na variável a\n",
        "    a = y.copy()\n",
        "\n",
        "    # Loop de j que vai de 1 até n-1\n",
        "    for j in range(1, n):\n",
        "\n",
        "        # Loop de i que vai de n-1 até j-1, decrementando de 1 em 1\n",
        "        for i in range(n-1, j-1, -1):\n",
        "\n",
        "            # Calcula o valor da interpolação usando o método de Newton\n",
        "            a[i] = (a[i] - a[i-1]) / (x[i] - x[i-j])\n",
        "\n",
        "    # Define a função p(z) como o resultado da interpolação usando o método de Newton\n",
        "    def p(z):\n",
        "        val = a[n-1]\n",
        "        for i in range(n-2, -1, -1):\n",
        "            val = val * (z - x[i]) + a[i]\n",
        "        return val\n",
        "\n",
        "    # Retorna a função p(z)\n",
        "    return p\n",
        "\n",
        "# Transforma os pontos de string para uma array de inteiros\n",
        "x = ([-50, -5, 5, 75])\n",
        "y = ([-300, -50, 180, 350])\n",
        "\n",
        "est = 0\n",
        "\n",
        "# Recebe a interpolação vinda da função\n",
        "P = interp_newton(x, y)\n",
        "\n",
        "# Cria o polinomio\n",
        "x_sym = sp.symbols('x')\n",
        "polinomio = sp.poly(P(x_sym), x_sym)\n",
        "\n",
        "# Imprime o polinômio interpolador\n",
        "print(f\"\\nO polinômio interpolador de Newton é:\")\n",
        "print(sp.simplify(str(polinomio.as_expr())))\n",
        "\n",
        "# Verifica a estimativa que foi pedida\n",
        "x = sp.Symbol('x')\n",
        "\n",
        "print(f\"\\nO resultado da estimativa para o valor de f({est}) é:\")\n",
        "print(sp.simplify(polinomio.subs(x, est)))"
      ],
      "metadata": {
        "colab": {
          "base_uri": "https://localhost:8080/"
        },
        "id": "60XxJ1pBTFKm",
        "outputId": "784a541c-6dbb-4541-df2f-4aeed5862567"
      },
      "execution_count": 4,
      "outputs": [
        {
          "output_type": "stream",
          "name": "stdout",
          "text": [
            "\n",
            "O polinômio interpolador de Newton é:\n",
            "-0.00459451659451659*x**3 + 0.0874458874458874*x**2 + 23.1148629148629*x + 62.8138528138528\n",
            "\n",
            "O resultado da estimativa para o valor de f(0) é:\n",
            "62.8138528138528\n"
          ]
        }
      ]
    }
  ]
}