{
  "nbformat": 4,
  "nbformat_minor": 0,
  "metadata": {
    "colab": {
      "provenance": [],
      "authorship_tag": "ABX9TyNu3DgLBMFoohEetg+6dLCv",
      "include_colab_link": true
    },
    "kernelspec": {
      "name": "python3",
      "display_name": "Python 3"
    },
    "language_info": {
      "name": "python"
    }
  },
  "cells": [
    {
      "cell_type": "markdown",
      "metadata": {
        "id": "view-in-github",
        "colab_type": "text"
      },
      "source": [
        "<a href=\"https://colab.research.google.com/github/ciceroed/CAN/blob/main/Exerc%C3%ADcios_Erros.ipynb\" target=\"_parent\"><img src=\"https://colab.research.google.com/assets/colab-badge.svg\" alt=\"Open In Colab\"/></a>"
      ]
    },
    {
      "cell_type": "markdown",
      "source": [
        "## ANÁLISE DE ERROS E ARITMÉTICA DE PONTO FLUTUANTE\n",
        "\n",
        "&nbsp;\n",
        "\n",
        "### EXERCÍCIOS:\n",
        "\n",
        "**1) Explique \"Fenômento Físico\", \"Modelo Matemático\" e \"Análise Numérica\".**\n",
        "\n",
        "&nbsp;\n",
        "\n",
        "**Fenômeno Físico:** Sistemas que envolvem a mudança de estado de uma grandeza física e obedece a um conjunto de leis. Problemas de engenharia envolvem o compreendimento completo desses fenômenos, assim como prevê-los e manipulá-los afim de obter um resultado específico.\n",
        "\n",
        "&nbsp;\n",
        "\n",
        "**Modelo Matemático:** É um conjunto de equações que representa numéricamente um fenômeno físico.\n",
        "\n",
        "&nbsp;\n",
        "\n",
        "**Análise Numérica:** A partir do modelo matemático de um problema devemos fazer uma análise a fim de obter a solução do mesmo. Em casos onde a solução do problema não pode ser obtida de forma exata, devemos fazer uma análise numérica. A partir de algoritmos numéricos podemos obter uma solução aproximada do problema.\n",
        "\n",
        "&nbsp;\n",
        "\n",
        "**2) Diferencie Acurácia e Precisão:**\n",
        "\n",
        "&nbsp;\n",
        "\n",
        "**Acurácia:** Quão próximos os valores calculados ou medidos estão do\n",
        "verdadeiro.\n",
        "\n",
        "**Precisão:** Quão próximo os valores individuais medidos ou calculados estão uns dos outros.\n",
        "\n",
        "&nbsp;\n",
        "\n",
        "**3) Explique \"Ponto Flutuante\":**\n",
        "\n",
        "&nbsp;\n",
        "\n",
        "**Ponto flutuante:** Sistema utilizado para representar números reais em linguagem de máquina. Os números reais são representados na forma:\n",
        "\n",
        "$$ x = m \\cdot \\beta ^{ e} $$\n",
        "\n",
        "Onde:\n",
        "\n",
        "* $\\beta →$ Base numérica;\n",
        "* $m →$ Mantissa;\n",
        "* $e →$ Expoente.\n",
        "\n",
        "\n",
        "**4) Monte uma tabela com um exemplo numérico de $  x = m \\cdot \\beta ^{ e} $**\n",
        "\n",
        "Nº base decimal|Representação em ponto flutuante | Mantissa   -| Base | Expoente\n",
        "---------------|---------------------------------|-------------|------|---------\n",
        "2023           | 0,2023 * 10^4                   |0,2023       |  10  | 4\n",
        "2023           | 0,11111100111 * 2^11            |0,11111100111|  2   | 11\n",
        "0,002023       | 0,2023 * 10^-2                  |0,2023       | 10   | -2\n",
        "\n",
        "&nbsp;\n",
        "\n",
        "**5) Quais os valores de Overflow e Underflow da sua máquina?**"
      ],
      "metadata": {
        "id": "ghLVRLzrT9MC"
      }
    },
    {
      "cell_type": "code",
      "source": [
        "import sys\n",
        "\n",
        "Overflow = sys.float_info.max # Identifica o valor máximo da máquina\n",
        "\n",
        "Underflow = sys.float_info.min # Identifica o valor máximo da máquina\n",
        "\n",
        "# Imprime os valores:\n",
        "print(\"Valor máximo da máquina é %s\" %(Overflow))\n",
        "print(\"Valor mínimo da máquina é %s\" %(Underflow))"
      ],
      "metadata": {
        "colab": {
          "base_uri": "https://localhost:8080/"
        },
        "id": "9F2KbeP-ZSKr",
        "outputId": "a81a154d-6c74-44e5-9cf0-0a2cf30b911f"
      },
      "execution_count": 17,
      "outputs": [
        {
          "output_type": "stream",
          "name": "stdout",
          "text": [
            "Valor máximo da máquina é 1.7976931348623157e+308\n",
            "Valor mínimo da máquina é 2.2250738585072014e-308\n"
          ]
        }
      ]
    },
    {
      "cell_type": "markdown",
      "source": [
        "**6)Exemplifique os três tipos de arredondamento.**\n",
        "\n",
        "&nbsp;\n",
        "\n",
        "Considerando o exemplo anterior, temos:\n",
        "\n",
        "Nº base decimal|Representação em ponto flutuante | Mantissa   -| Base | Expoente\n",
        "---------------|---------------------------------|-------------|------|---------\n",
        "2023           | 0,2023 * 10^4                   |0,2023       |  10  | 4\n",
        "\n",
        "\n",
        "Seja F = F(10, 3,-9,10);\n",
        "\n",
        "**Arredondamento para cima:**\n",
        "\n",
        "Nº base decimal|Representação em ponto flutuante | Mantissa   -| Base | Expoente\n",
        "---------------|---------------------------------|-------------|------|---------\n",
        "2023           | 0,203 * 10^4                    |0,203        |  10  | 4\n",
        "\n",
        "**Arredondamento para baixo:**\n",
        "\n",
        "Nº base decimal|Representação em ponto flutuante | Mantissa   -| Base | Expoente\n",
        "---------------|---------------------------------|-------------|------|---------\n",
        "2023           | 0,202 * 10^4                    |0,202        |  10  | 4\n",
        "\n",
        "**Arredondamento para o número mais próximo da máquina:**\n",
        "\n",
        "Seria o arredondamento para baixo apresentado acima.\n",
        "\n",
        "&nbsp;\n",
        "\n",
        "**7) Exemplifique erro absoluto e erro relativo:**\n",
        "\n",
        "Considerando o exemplo de arredondamento acima, podemos calcular o erro absoluto sendo:\n",
        "\n",
        "$ E_{A} = \\left |0,203 ⋅ 10^{4}  \\ - 0,2023 ⋅ 10^{4}  \\right | = 7$\n",
        "\n",
        "E o erro relativo pode ser calculado da seguinte forma:\n",
        "\n",
        "$ E_{R} = \\frac{\\left | 0,203 \\cdot 10^{4} \\ - \\ 0,2023 \\cdot 10^{4} \\right |}{\\left | 0,203 \\cdot 10^{4} \\right |} = 0,003448$\n",
        "\n",
        "&nbsp;\n",
        "\n",
        "**8) Quais são os indutores de erros?**\n",
        "\n",
        "Erros inerentes que surgem durante o processo de modelagem matemática de um sistema físico e também os erros de arredondamento ou truncamento durante a execução dos cálculos.\n",
        "\n",
        "&nbsp;\n",
        "\n",
        "**9) Conceitue problema mal-condicionado e bem condicionado.**\n",
        "\n",
        "Problemas onde uma pequena variação nos dados de entrada geram grandes erros na saída são considerados mal-condicionados, pois existe uma grande propagação de erros na operação.\n",
        "\n",
        "Quando uma pequena variação nos dados de entrada gera uma pequena diferença no resultado final o problema é considerado bem-condicionado.\n",
        "\n",
        "&nbsp;\n",
        "\n",
        "**10) Explique o que é um processo iterativo.**\n",
        "\n",
        "São métodos numéricos baseados na repetição de uma operação afim de obter no final de cada repetição ou **iteração** um resultado mais preciso que aquele obtido na repetição anterior.\n",
        "\n",
        "Esses processos geralmente necessitam de uma estimativa inicial para iniciar a operação. E também é necessário um critério de parada para que o processo não seja executado de forma indeterminada.\n",
        "\n",
        "Esses métodos convergem para uma solução aproximada mas nunca chegam no valor **exato**.\n"
      ],
      "metadata": {
        "id": "gblESB5VbaWa"
      }
    }
  ]
}