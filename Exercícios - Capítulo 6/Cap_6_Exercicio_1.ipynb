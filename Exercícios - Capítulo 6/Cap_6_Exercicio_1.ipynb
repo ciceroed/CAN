{
  "nbformat": 4,
  "nbformat_minor": 0,
  "metadata": {
    "colab": {
      "provenance": [],
      "authorship_tag": "ABX9TyNPgeHX3asyO57rzbWYOUdw",
      "include_colab_link": true
    },
    "kernelspec": {
      "name": "python3",
      "display_name": "Python 3"
    },
    "language_info": {
      "name": "python"
    }
  },
  "cells": [
    {
      "cell_type": "markdown",
      "metadata": {
        "id": "view-in-github",
        "colab_type": "text"
      },
      "source": [
        "<a href=\"https://colab.research.google.com/github/ciceroed/CAN/blob/main/Exerc%C3%ADcios%20-%20Cap%C3%ADtulo%206/Cap_6_Exercicio_1.ipynb\" target=\"_parent\"><img src=\"https://colab.research.google.com/assets/colab-badge.svg\" alt=\"Open In Colab\"/></a>"
      ]
    },
    {
      "cell_type": "markdown",
      "source": [
        "1. O problema do circuito com diodo apresentado no capÌtulo 4 pode ser\n",
        "equacionado por um sistema não linear da seguinte forma:\n",
        "\n",
        "![image.png](data:image/png;base64,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)\n",
        "\n",
        "onde Id é a corrente no diodo e Vd é a tensão no diodo. Admitindo um\n",
        "diodo 1N4001 com IC R = 31,9824 nA, n = 2, k = 1,3806 x 10-23\n",
        "J/K, T = 300K (26,85 ◦C) e q = 1,6022 x 1019 C, encontre Id e Vd."
      ],
      "metadata": {
        "id": "5WxMk_fgkruc"
      }
    },
    {
      "cell_type": "code",
      "execution_count": 20,
      "metadata": {
        "colab": {
          "base_uri": "https://localhost:8080/"
        },
        "id": "yHSJMpqmknJ4",
        "outputId": "6bd39eb5-ba89-471e-ad22-05bcde57bcb0"
      },
      "outputs": [
        {
          "output_type": "stream",
          "name": "stdout",
          "text": [
            "Derivadas:\n",
            "d(Icr*(exp(Vd*q/(T*k*n)) - 1) - Id)/d(Id) = -1\n",
            "d(Icr*(exp(Vd*q/(T*k*n)) - 1) - Id)/d(Vd) = Icr*q*exp(Vd*q/(T*k*n))/(T*k*n)\n",
            "d(-Id + (V - Vd)/R)/d(Id) = -1\n",
            "d(-Id + (V - Vd)/R)/d(Vd) = -1/R\n"
          ]
        }
      ],
      "source": [
        "# Calculando as derivadas:\n",
        "\n",
        "import sympy as sp\n",
        "\n",
        "# Definir a variável simbólica\n",
        "Id, Vd, Icr, n, k, T, q, V, R = sp.symbols('Id Vd Icr n k T q V R')\n",
        "\n",
        "# Definir a função simbólica\n",
        "f1 = Icr*(sp.exp(Vd/((n*k*T)/q))-1) - Id # Exemplo de função\n",
        "f2 = ((V-Vd)/R) - Id\n",
        "\n",
        "variaveis = [Id, Vd]\n",
        "funcoes = [f1, f2]\n",
        "\n",
        "\n",
        "# Calcular a derivada\n",
        "derivadas = [[sp.diff(eq, var) for var in variaveis] for eq in funcoes]\n",
        "\n",
        "# Imprimir a derivada\n",
        "print(\"Derivadas:\")\n",
        "for i, eq in enumerate(funcoes):\n",
        "    for j, var in enumerate(variaveis):\n",
        "        print(f\"d({eq})/d({var}) = {derivadas[i][j]}\")\n"
      ]
    },
    {
      "cell_type": "code",
      "source": [
        "# Cálculo numérico para engenharia elétrica com PYTHON\n",
        "# Capítulo 6: Sistemas Não Lineares\n",
        "# Método iterativo: Newton-Raphson\n",
        "\n",
        "\n",
        "from math import pi, exp\n",
        "from numpy import array, divide, linalg\n",
        "\n",
        "# Definindo as constantes\n",
        "Icr = 31.9824 * 10 **(-9)\n",
        "n = 2\n",
        "k = 1.3806 * 10 **(-23)\n",
        "T = 300\n",
        "q = 1.6022 * 10 **(-19)\n",
        "R = 10\n",
        "V = 24\n",
        "\n",
        "x = array([[1.0],[2.0]])  # aproximações iniciais\n",
        "iter = 0\n",
        "maxit = 50  # Número máximo de iterações\n",
        "es = 0.001 # Critério de parada\n",
        "\n",
        "while True:\n",
        "  f1 = Icr*(exp(x[0]/(n*k*T/q))-1) - x[1]\n",
        "  f2 = ((V-x[0])/R) - x[1]\n",
        "  F = array([f1,f2])  # Matriz de funções\n",
        "\n",
        "  J = array([[(Icr*q*exp(x[0]*q/(T*k*n)))/(T*k*n), -1],\n",
        "              [-1/R, -1]])  # Matriz Jacobiana\n",
        "  dx = linalg.lstsq(J,F,rcond=None)[0]\n",
        "  x = x - dx\n",
        "  iter += 1\n",
        "  ea = max(abs(divide(dx,x)))\n",
        "  if iter >= maxit or ea <= es:\n",
        "    break\n",
        "print(f'Com {iter} iterações: \\n x = \\n {x}')\n"
      ],
      "metadata": {
        "colab": {
          "base_uri": "https://localhost:8080/"
        },
        "id": "UqX7Jjwnl4WK",
        "outputId": "2582661e-4d48-45fe-99e4-fbf81afdc445"
      },
      "execution_count": 26,
      "outputs": [
        {
          "output_type": "stream",
          "name": "stdout",
          "text": [
            "Com 4 iterações: \n",
            " x = \n",
            " [[0.93547575]\n",
            " [2.30645243]]\n"
          ]
        }
      ]
    },
    {
      "cell_type": "markdown",
      "source": [
        "$ V_{d} = 0.93547575 \\\\\n",
        "  I_{d} = 2.30645243 $"
      ],
      "metadata": {
        "id": "98OR6tCLus6p"
      }
    }
  ]
}