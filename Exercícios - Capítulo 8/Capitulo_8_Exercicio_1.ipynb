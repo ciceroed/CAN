{
  "nbformat": 4,
  "nbformat_minor": 0,
  "metadata": {
    "colab": {
      "provenance": [],
      "authorship_tag": "ABX9TyMO7H3iYxF1n3w/gaKY3g0/",
      "include_colab_link": true
    },
    "kernelspec": {
      "name": "python3",
      "display_name": "Python 3"
    },
    "language_info": {
      "name": "python"
    }
  },
  "cells": [
    {
      "cell_type": "markdown",
      "metadata": {
        "id": "view-in-github",
        "colab_type": "text"
      },
      "source": [
        "<a href=\"https://colab.research.google.com/github/ciceroed/CAN/blob/main/Exerrc%C3%ADcios%20-%20Cap%C3%ADtulo%208/Capitulo_8_Exercicio_1.ipynb\" target=\"_parent\"><img src=\"https://colab.research.google.com/assets/colab-badge.svg\" alt=\"Open In Colab\"/></a>"
      ]
    },
    {
      "cell_type": "code",
      "execution_count": 13,
      "metadata": {
        "colab": {
          "base_uri": "https://localhost:8080/"
        },
        "id": "CAcU9QDX2Fdy",
        "outputId": "2573febd-211d-4c2e-f695-245745310c75"
      },
      "outputs": [
        {
          "output_type": "stream",
          "name": "stdout",
          "text": [
            "Resultado da integral: 3.1415926535897905\n",
            "Vef = 219.91020894901618\n"
          ]
        }
      ],
      "source": [
        "import numpy as np\n",
        "\n",
        "# Defina a função que você deseja integrar\n",
        "def f(x):\n",
        "    return (np.sin(377*x)) ** 2  # Exemplo de função x^2\n",
        "\n",
        "# Crie um array NumPy para os valores da variável independente\n",
        "x_values = np.linspace(0, 2*np.pi, 100)  # 100 pontos de 0 a 1\n",
        "\n",
        "# Calcule os valores correspondentes da função para cada ponto\n",
        "y_values = f(x_values)\n",
        "\n",
        "# Use numpy.trapz para calcular a integral\n",
        "integral_result = np.trapz(y_values, x_values)\n",
        "\n",
        "# Imprime o resultado da integral\n",
        "print(\"Resultado da integral:\", integral_result)\n",
        "\n",
        "# Calcula o valor de Vef e imprime\n",
        "Vef = np.sqrt(((311 ** 2)/(2*np.pi))*integral_result)\n",
        "\n",
        "print(\"Vef =\", Vef)"
      ]
    }
  ]
}