{
  "nbformat": 4,
  "nbformat_minor": 0,
  "metadata": {
    "colab": {
      "provenance": [],
      "authorship_tag": "ABX9TyPum7B/nrgSAF3nPzmC8L+Y",
      "include_colab_link": true
    },
    "kernelspec": {
      "name": "python3",
      "display_name": "Python 3"
    },
    "language_info": {
      "name": "python"
    }
  },
  "cells": [
    {
      "cell_type": "markdown",
      "metadata": {
        "id": "view-in-github",
        "colab_type": "text"
      },
      "source": [
        "<a href=\"https://colab.research.google.com/github/ciceroed/CAN/blob/main/Exerc%C3%ADcios%20-%20Cap%C3%ADtulo%208/Capitulo_8_Exercicio_2.ipynb\" target=\"_parent\"><img src=\"https://colab.research.google.com/assets/colab-badge.svg\" alt=\"Open In Colab\"/></a>"
      ]
    },
    {
      "cell_type": "code",
      "source": [
        "# Código obtido pelo github de Gabrielmazz\n",
        "# Link do repositório: https://github.com/gabrielmazz/interpolador_newton/blob/main/interpolador_newton.py\n",
        "\n",
        "\n",
        "\n",
        "import sympy as sp\n",
        "import numpy as np\n",
        "\n",
        "\"\"\"\n",
        "    Este trecho de código define a função \"interp_newton\" que recebe como entrada dois arrays, \"x\" e \"y\", que representam os pontos para interpolação. A função retorna uma outra função, \"p(z)\",\n",
        "    que é a interpolação dos pontos usando o Método de Newton. A função interp_newton começa armazenando o tamanho dos arrays \"x\" e \"y\" na variável \"n\". Em seguida, cria uma cópia dos valores de\n",
        "    \"y\" e armazena na variável \"a\". Depois, é realizado um loop de \"j\" que vai de 1 até n-1, e dentro deste loop, é realizado outro loop de \"i\" que vai de n-1 até j-1, decrementando de 1 em 1.\n",
        "    Durante o loop de \"i\", o valor da interpolação é calculado usando o Método de Newton. Por fim, a função \"p(z)\" é definida como o resultado da interpolação usando o Método de Newton, e é\n",
        "    retornada ao final da função \"interp_newton\".\n",
        "\"\"\"\n",
        "\n",
        "def interp_newton(x, y):\n",
        "    # Guarda o tamanho dos arrays x e y na variável n\n",
        "    n = len(x)\n",
        "\n",
        "    # Cria uma cópia dos valores de y e guarda na variável a\n",
        "    a = y.copy()\n",
        "\n",
        "    # Loop de j que vai de 1 até n-1\n",
        "    for j in range(1, n):\n",
        "\n",
        "        # Loop de i que vai de n-1 até j-1, decrementando de 1 em 1\n",
        "        for i in range(n-1, j-1, -1):\n",
        "\n",
        "            # Calcula o valor da interpolação usando o método de Newton\n",
        "            a[i] = (a[i] - a[i-1]) / (x[i] - x[i-j])\n",
        "\n",
        "    # Define a função p(z) como o resultado da interpolação usando o método de Newton\n",
        "    def p(z):\n",
        "        val = a[n-1]\n",
        "        for i in range(n-2, -1, -1):\n",
        "            val = val * (z - x[i]) + a[i]\n",
        "        return val\n",
        "\n",
        "    # Retorna a função p(z)\n",
        "    return p\n"
      ],
      "metadata": {
        "id": "c2wPjcGTG2eR"
      },
      "execution_count": 6,
      "outputs": []
    },
    {
      "cell_type": "code",
      "source": [
        "# Transforma os pontos de string para uma array de inteiros\n",
        "x = np.array([0, 0.5, 1, 1.5, 2, 2.5, 3])\n",
        "y = np.array([100, 36.90, 13.5, 5.06, 1.99, 0.62, 0.25])\n",
        "\n",
        "# Recebe a interpolação vinda da função\n",
        "P = interp_newton(x, y)\n",
        "\n",
        "# Cria o polinomio\n",
        "x_sym = sp.symbols('x')\n",
        "polinomio = sp.poly(P(x_sym), x_sym)\n",
        "\n",
        "# Imprime o polinômio interpolador\n",
        "print(f\"\\nO polinômio interpolador de Newton é:\")\n",
        "print(sp.simplify(str(polinomio.as_expr())))\n",
        "\n",
        "# Verifica a estimativa que foi pedida\n",
        "x = sp.Symbol('x')\n"
      ],
      "metadata": {
        "colab": {
          "base_uri": "https://localhost:8080/"
        },
        "id": "3rpIPAlmG2_4",
        "outputId": "a7605fdf-f07c-421e-9015-ed5f7dd9e5f6"
      },
      "execution_count": 7,
      "outputs": [
        {
          "output_type": "stream",
          "name": "stdout",
          "text": [
            "\n",
            "O polinômio interpolador de Newton é:\n",
            "0.558222222222224*x**6 - 6.64800000000002*x**5 + 34.268888888889*x**4 - 100.523333333333*x**3 + 181.597888888889*x**2 - 195.753666666667*x + 100.0\n"
          ]
        }
      ]
    },
    {
      "cell_type": "code",
      "execution_count": 5,
      "metadata": {
        "colab": {
          "base_uri": "https://localhost:8080/"
        },
        "id": "dW6Eh9o65QMR",
        "outputId": "b53083ab-f5df-469b-ae21-ce1cd36cdff4"
      },
      "outputs": [
        {
          "output_type": "stream",
          "name": "stdout",
          "text": [
            "Resultado da integral: 5.926228792242689\n"
          ]
        }
      ],
      "source": [
        "\n",
        "import numpy as np\n",
        "\n",
        "# Defina a função que você deseja integrar\n",
        "def f(x):\n",
        "    return 0.5582*(x**6) - 6.6480*(x**5) + 34.2689*(x**4) - 100.5233*(x**3) + 181.5979*(x**2) - 195.7537*x + 100\n",
        "\n",
        "# Crie um array NumPy para os valores da variável independente\n",
        "x_values = np.linspace(1, 2, 100)  # 100 pontos de 0 a 1\n",
        "\n",
        "# Calcule os valores correspondentes da função para cada ponto\n",
        "y_values = f(x_values)\n",
        "\n",
        "# Use numpy.trapz para calcular a integral\n",
        "integral_result = np.trapz(y_values, x_values)\n",
        "\n",
        "# Imprime o resultado da integral\n",
        "print(\"Resultado da integral:\", integral_result)\n"
      ]
    }
  ]
}