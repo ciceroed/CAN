{
  "nbformat": 4,
  "nbformat_minor": 0,
  "metadata": {
    "colab": {
      "provenance": [],
      "authorship_tag": "ABX9TyMaMw2dZ3pcfvMtrdI7sTJt",
      "include_colab_link": true
    },
    "kernelspec": {
      "name": "python3",
      "display_name": "Python 3"
    },
    "language_info": {
      "name": "python"
    }
  },
  "cells": [
    {
      "cell_type": "markdown",
      "metadata": {
        "id": "view-in-github",
        "colab_type": "text"
      },
      "source": [
        "<a href=\"https://colab.research.google.com/github/ciceroed/CAN/blob/main/Exerc%C3%ADcios%20-%20Cap%C3%ADtulo%205/Cap_5_Exerc%C3%ADcio_1.ipynb\" target=\"_parent\"><img src=\"https://colab.research.google.com/assets/colab-badge.svg\" alt=\"Open In Colab\"/></a>"
      ]
    },
    {
      "cell_type": "markdown",
      "source": [
        "1. Determine o valor da corrente no resistor R3, sabendo que\n",
        "V1 = V2 = 100 V e R1 = R2 = R3 = 10 Ω.\n",
        "\n",
        "![image.png](data:image/png;base64,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)\n",
        "\n",
        "\n",
        "$ \\begin{bmatrix}\n",
        "    10 & 20 \\\\\n",
        "    20 & 10\n",
        "\\end{bmatrix} *\n",
        "\\begin{Bmatrix}\n",
        "    I_{1} \\\\\n",
        "    I_{2}\n",
        "\\end{Bmatrix}\n",
        " =\n",
        "\\begin{Bmatrix}\n",
        "    100 \\\\\n",
        "    100\n",
        "\\end{Bmatrix}\n",
        " $\n"
      ],
      "metadata": {
        "id": "Fq3f2YYk4KM6"
      }
    },
    {
      "cell_type": "code",
      "execution_count": 4,
      "metadata": {
        "colab": {
          "base_uri": "https://localhost:8080/"
        },
        "id": "uB4TFP-938-P",
        "outputId": "d54aecb4-6520-4c4f-a198-342d3263130d"
      },
      "outputs": [
        {
          "output_type": "stream",
          "name": "stdout",
          "text": [
            "A =\n",
            " [[10 20]\n",
            " [ 0 15]]\n",
            "b =\n",
            " [100  50]\n",
            "--------------------------------------------------\n",
            "                SOLUÇÃO DO SISTEMA                \n",
            "--------------------------------------------------\n",
            "[3.33333333 3.33333333]\n",
            "Onde: \n",
            "\t x[0] = 3.333333333333333 \n",
            "\n",
            "\t x[1] = 3.3333333333333335 \n",
            "\n"
          ]
        }
      ],
      "source": [
        "# Capítulo 5: Sistemas Lineares - Exercício 1\n",
        "# Métodos Diretos: Eliminação de Gauss\n",
        "# Referência: https://github.com/PECCE-IFSC/CALCULO_NUMERICO_PYTHON/blob/main/C5_Elimina%C3%A7%C3%A3o%20de%20Gauss\n",
        "\n",
        "\n",
        "from numpy import array, zeros\n",
        "\n",
        "\n",
        "def GaussEliminação(A, b):  # cria-se a função do método\n",
        "    n = len(b)\n",
        "    x = zeros(n, float)\n",
        "    # Eliminação progressiva\n",
        "    for k in range(n-1):\n",
        "        for i in range(k+1, n):\n",
        "            if A[i, k] == 0:\n",
        "                continue\n",
        "            fator = A[k, k] / A[i, k]\n",
        "            for j in range(k, n):\n",
        "                A[i, j] = A[k, j] - A[i, j]*fator\n",
        "            b[i] = b[k] - b[i]*fator\n",
        "    print(f'A =\\n {A}')\n",
        "    print(f'b =\\n {b}')\n",
        "    # Substituição regressiva\n",
        "    x[n-1] = b[n-1] / A[n-1, n-1]\n",
        "    for i in range(n-2, -1, -1):\n",
        "        sum_ax = 0\n",
        "        for j in range(i+1, n):\n",
        "            sum_ax += A[i, j] * x[j]\n",
        "            x[i] = (b[i] - sum_ax) / A[i, i]\n",
        "    f = 'SOLUÇÃO DO SISTEMA'\n",
        "    print('-'*(len(f)+32))\n",
        "    print(f'{f:^50}')\n",
        "    print('-'*(len(f)+32))\n",
        "    print(x)\n",
        "    print('Onde: ')\n",
        "    for c in range(0, len(x)):\n",
        "        print(f'\\t x[{c}] = {x[c]} \\n')\n",
        "\n",
        "\n",
        "# Uso do método\n",
        "A = array([[10, 20],\n",
        "          [20, 10]])\n",
        "b = array([100, 100])\n",
        "GaussEliminação(A, b)\n"
      ]
    },
    {
      "cell_type": "markdown",
      "source": [
        "Como $ I_{R3} = I_{1} + I_{2}$\n",
        "\n",
        "Temos que  $ I_{R3} = 6,6667 A$"
      ],
      "metadata": {
        "id": "QJk9mr7D7wDx"
      }
    }
  ]
}