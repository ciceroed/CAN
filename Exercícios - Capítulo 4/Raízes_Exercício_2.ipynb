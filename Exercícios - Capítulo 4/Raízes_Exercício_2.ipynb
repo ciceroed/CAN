{
  "nbformat": 4,
  "nbformat_minor": 0,
  "metadata": {
    "colab": {
      "provenance": [],
      "authorship_tag": "ABX9TyMRp+KTp6hOM3+Vm2yfZIgh",
      "include_colab_link": true
    },
    "kernelspec": {
      "name": "python3",
      "display_name": "Python 3"
    },
    "language_info": {
      "name": "python"
    }
  },
  "cells": [
    {
      "cell_type": "markdown",
      "metadata": {
        "id": "view-in-github",
        "colab_type": "text"
      },
      "source": [
        "<a href=\"https://colab.research.google.com/github/ciceroed/CAN/blob/main/Cap%C3%ADtulo%20Ra%C3%ADzes/Ra%C3%ADzes_Exerc%C3%ADcio_2.ipynb\" target=\"_parent\"><img src=\"https://colab.research.google.com/assets/colab-badge.svg\" alt=\"Open In Colab\"/></a>"
      ]
    },
    {
      "cell_type": "markdown",
      "source": [
        "2. Um retificador de meia onda a diodo alimenta uma carga indutiva-resistiva (f = 1 kHz, L = 100 mH e R = 1 kΩ). Encontre o ângulo para o qual a corrente Id no diodo se anula. Considere o seguinte modelo matemático:\n",
        "\n",
        "$$ Id = sin(β − φ) + sin(φ)e^{(\\frac{−β}{tan(φ)})} $$\n",
        "\n",
        "Considere ainda:\n",
        "\n",
        "$ tan(φ) = 2πf.L/R $"
      ],
      "metadata": {
        "id": "ZPJ3PxmlZTm8"
      }
    },
    {
      "cell_type": "code",
      "execution_count": 27,
      "metadata": {
        "colab": {
          "base_uri": "https://localhost:8080/"
        },
        "id": "CSD5x-g4ZFXG",
        "outputId": "d6f58129-730b-44a3-a291-82650d9deb4a"
      },
      "outputs": [
        {
          "output_type": "stream",
          "name": "stdout",
          "text": [
            "A raiz é 212.22582. Com 3 iterações.\n"
          ]
        },
        {
          "output_type": "stream",
          "name": "stderr",
          "text": [
            "<ipython-input-27-68ad6cc4864b>:26: DeprecationWarning: scipy.misc.derivative is deprecated in SciPy v1.10.0; and will be completely removed in SciPy v1.12.0. You may consider using findiff: https://github.com/maroba/findiff or numdifftools: https://github.com/pbrod/numdifftools\n",
            "  return derivative(f, x)  # derivada função da SciPY\n"
          ]
        }
      ],
      "source": [
        "# Método de Newton-Raphson\n",
        "# Capítulo de Raízes\n",
        "# Método obtido a partir do github\n",
        "# https://github.com/PECCE-IFSC/CALCULO_NUMERICO_PYTHON/blob/main/C4_Newton-Raphson\n",
        "\n",
        "# Esse método diverge sem uma boa estimativa inicial\n",
        "\n",
        "import math as m\n",
        "from scipy.misc import derivative\n",
        "import numpy as np\n",
        "\n",
        "\n",
        "def f(B, # Angulo de disparo\n",
        "      freq = 1000, # Frequência\n",
        "      L = 0.1, # Indutância\n",
        "      R = 1000, #Resistência\n",
        "      ):\n",
        "\n",
        "    B = B*np.pi/180 # Converte de Graus pra Radianos\n",
        "    tanphi = (2*np.pi*L*freq)/R # Calcula a tangente de phi\n",
        "    phi = np.arctan(tanphi) # Calcula phi\n",
        "\n",
        "    return np.sin(B - phi) + np.sin(phi) * np.exp(-B/tanphi)\n",
        "\n",
        "def d(x):\n",
        "    return derivative(f, x)  # derivada função da SciPY\n",
        "\n",
        "\n",
        "def newtonRaphson(x,  # x inicial\n",
        "                maxit=10,  # número máximo de iterações\n",
        "                TOL=0.0001):  # erro tolerado\n",
        "\n",
        "    a = f(x) / d(x)\n",
        "    iter = 0\n",
        "    while abs(a) > TOL and iter < maxit:  # critério de parada\n",
        "        a = f(x) / d(x)\n",
        "        # x(i+1) = x(i) - f(x) / f'(x)\n",
        "        x = x - a\n",
        "        iter += 1\n",
        "    return [x, iter]\n",
        "\n",
        "\n",
        "# Exemplo\n",
        "x0 = 200 # Valor inicial\n",
        "ans = newtonRaphson(x0)\n",
        "raiz = ans[0]\n",
        "print(f'A raiz é {raiz:.5f}. Com {ans[1]} iterações.')\n"
      ]
    }
  ]
}