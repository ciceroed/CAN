{
  "nbformat": 4,
  "nbformat_minor": 0,
  "metadata": {
    "colab": {
      "provenance": [],
      "authorship_tag": "ABX9TyOHGqsYC9c2s5SsygC0rO+z",
      "include_colab_link": true
    },
    "kernelspec": {
      "name": "python3",
      "display_name": "Python 3"
    },
    "language_info": {
      "name": "python"
    }
  },
  "cells": [
    {
      "cell_type": "markdown",
      "metadata": {
        "id": "view-in-github",
        "colab_type": "text"
      },
      "source": [
        "<a href=\"https://colab.research.google.com/github/ciceroed/CAN/blob/main/Cap%C3%ADtulo%20Ra%C3%ADzes/Ra%C3%ADzes_Exerc%C3%ADcio_1.ipynb\" target=\"_parent\"><img src=\"https://colab.research.google.com/assets/colab-badge.svg\" alt=\"Open In Colab\"/></a>"
      ]
    },
    {
      "cell_type": "markdown",
      "source": [
        "1. Calcule o comprimento do cabo (C) entre duas torres de transmissão (i.e. a catenária). A distância entre as torres é de d = 500m. A flecha máxima permitida é fmax = 50m. Flecha é a distância vertical entre uma reta que liga os dois pontos de fixação. A flecha (f) depende do comprimento do vão (d) e da tração (C) aplicada ao cabo. O seu modelo matemático pode ser:\n",
        "\n",
        "$$ f = C * [\\cosh(\\frac {d}{2*C}) - 1]$$\n",
        "\n",
        "Considerando que C não pode ser isolado e que desejamos um fmax = 50, podemos utilizar o método da bissecção para calcular uma solução aproximada. Dessa forma temos a seguinte função:\n",
        "\n",
        "\n",
        "$$ f(C) = C * [\\cosh(\\frac {d}{2*C}) - 1] - fmáx $$\n"
      ],
      "metadata": {
        "id": "iXelrnJ_-lqN"
      }
    },
    {
      "cell_type": "code",
      "execution_count": 2,
      "metadata": {
        "colab": {
          "base_uri": "https://localhost:8080/"
        },
        "id": "K1YPU4HD99dA",
        "outputId": "08ecd027-12bf-44e8-c453-15c6c2e2619f"
      },
      "outputs": [
        {
          "output_type": "stream",
          "name": "stdout",
          "text": [
            "raíz aprox 633.1622\n",
            "O número de iterações foi 16\n"
          ]
        }
      ],
      "source": [
        "# Método da bissecção\n",
        "# Capítulo de Raízes\n",
        "# Método obtido a partir do github\n",
        "# https://github.com/PECCE-IFSC/CALCULO_NUMERICO_PYTHON/blob/main/C4_%20Bissec%C3%A7%C3%A3o\n",
        "\n",
        "from math import log, e  # importa função logarítimo neperiano e a cte de euler\n",
        "import numpy as np\n",
        "\n",
        "# Define a função a ser calculada e seus parâmetros\n",
        "def f(C, fmax = 50, d = 500):\n",
        "\n",
        "    return C * (np.cosh(d/(2*C)) - 1) - fmax\n",
        "\n",
        "def bisseccao(x1,  # x1 início do intervalo\n",
        "              x2,  # x2 fim do intervalo\n",
        "              TOL,  # erro tolerado\n",
        "              iter=16):  # número máximo de iterações\n",
        "\n",
        "    hp = (x1 + x2)/2  # Ponto médio entre os valores x1 e x2\n",
        "    if f(x1) * f(x2) > 0:\n",
        "        print(\"Nenhuma raíz encontrada.\")  # nenhuma raíz.\n",
        "    else:\n",
        "        c = 0  # variável contador\n",
        "        ERRO = abs(f(x2) - f(x1))  # diferença entre os valores de y\n",
        "        while ERRO > TOL or c < iter:  # loop iterativo com critérios de parada\n",
        "            hp = (x1 + x2) / 2.0\n",
        "            if f(hp) == 0:\n",
        "                return [hp, c]\n",
        "            elif f(x1) * f(hp) < 0:\n",
        "                x2 = hp\n",
        "                c += 1  # contagem\n",
        "            else:\n",
        "                x1 = hp\n",
        "            ERRO = abs(f(x2) - f(x1))\n",
        "        return {\"hp\": hp, \"iteração\": c}  # raíz da função; número de iterações\n",
        "\n",
        "# Entrada dos intervalos\n",
        "resp = bisseccao(x1=500,                # Considerando x1 = 500m\n",
        "                 x2=750,                # Considerando x2 = 750m\n",
        "                 TOL=0.0001, iter=16)\n",
        "print(f'raíz aprox {resp[\"hp\"]:.4f}')\n",
        "print(f'O número de iterações foi {resp[\"iteração\"]}')"
      ]
    }
  ]
}